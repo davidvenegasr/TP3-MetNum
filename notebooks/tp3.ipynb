{
 "metadata": {
  "language_info": {
   "codemirror_mode": {
    "name": "ipython",
    "version": 3
   },
   "file_extension": ".py",
   "mimetype": "text/x-python",
   "name": "python",
   "nbconvert_exporter": "python",
   "pygments_lexer": "ipython3",
   "version": "3.8.6-final"
  },
  "orig_nbformat": 2,
  "kernelspec": {
   "name": "python3",
   "display_name": "Python 3"
  }
 },
 "nbformat": 4,
 "nbformat_minor": 2,
 "cells": [
  {
   "source": [
    "# TP3 METODOS NUMERICOS \n",
    "## Cuadrados Minimos"
   ],
   "cell_type": "markdown",
   "metadata": {}
  },
  {
   "cell_type": "code",
   "execution_count": null,
   "metadata": {},
   "outputs": [],
   "source": [
    "!cd .. && mkdir build\n",
    "!cd ../build/ && rm -rf *\n",
    "!cd ../build && cmake \\\n",
    "  -DPYTHON_EXECUTABLE=\"$(which python)\" \\\n",
    "  -DCMAKE_BUILD_TYPE=Release ..\n",
    "!cd ../build && make install"
   ]
  },
  {
   "cell_type": "code",
   "execution_count": 1,
   "metadata": {},
   "outputs": [],
   "source": [
    "import pandas as pd\n",
    "import numpy as np\n",
    "import seaborn as sns\n",
    "import matplotlib.pyplot as plt"
   ]
  },
  {
   "cell_type": "code",
   "execution_count": null,
   "metadata": {},
   "outputs": [],
   "source": [
    "# Verifico la correcta instalación. Si no falla el import está OK\n",
    "!pwd\n",
    "!python --version\n",
    "import metnum"
   ]
  },
  {
   "source": [
    "## Exploración de Datos \n",
    "Veamos primero como se distribuye el dataset en cuestión"
   ],
   "cell_type": "markdown",
   "metadata": {}
  },
  {
   "cell_type": "code",
   "execution_count": 10,
   "metadata": {},
   "outputs": [
    {
     "output_type": "display_data",
     "data": {
      "text/plain": "'Dimensiones: '"
     },
     "metadata": {}
    },
    {
     "output_type": "display_data",
     "data": {
      "text/plain": "(240000, 23)"
     },
     "metadata": {}
    },
    {
     "output_type": "execute_result",
     "data": {
      "text/plain": [
       "       id                                             titulo  \\\n",
       "0  254099                                  depto. tipo a-402   \n",
       "1   53461                     condominio horizontal en venta   \n",
       "2  247984              casa en venta urbi 3 recamaras tonala   \n",
       "3  209067  casa sola en toluca zinacantepec con credito i...   \n",
       "4  185997                                     paseos del sol   \n",
       "\n",
       "                                         descripcion     tipodepropiedad  \\\n",
       "0  depto. interior de 80.15m2, consta de sala com...         Apartamento   \n",
       "1  <p>entre sonora y guerrero, atr&aacute;s del h...  Casa en condominio   \n",
       "2  descripcion \\nla mejor ubicacion residencial e...                Casa   \n",
       "3  casa en privada con caseta de vigilancia casas...                Casa   \n",
       "4  bonito departamento en excelentes condiciones ...         Apartamento   \n",
       "\n",
       "                         direccion                  ciudad         provincia  \\\n",
       "0  Avenida Division del Norte 2005           Benito Juárez  Distrito Federal   \n",
       "1                       AV. MEXICO  La Magdalena Contreras  Distrito Federal   \n",
       "2                      Urbi Tonala                  Tonalá           Jalisco   \n",
       "3    IGNACIO MANUEL ALTAMIRANO 128            Zinacantepec    Edo. de México   \n",
       "4                  PASEOS DEL SOL                  Zapopan           Jalisco   \n",
       "\n",
       "   antiguedad  habitaciones  garages  banos  metroscubiertos  metrostotales  \\\n",
       "0         NaN           2.0      1.0    2.0             80.0           80.0   \n",
       "1        10.0           3.0      2.0    2.0            268.0          180.0   \n",
       "2         5.0           3.0      2.0    2.0            144.0          166.0   \n",
       "3         1.0           2.0      1.0    1.0             63.0           67.0   \n",
       "4        10.0           2.0      1.0    1.0             95.0           95.0   \n",
       "\n",
       "    idzona        lat        lng                fecha  gimnasio  \\\n",
       "0  23533.0        NaN        NaN  2015-08-23 00:00:00       0.0   \n",
       "1  24514.0  19.310205 -99.227655  2013-06-28 00:00:00       0.0   \n",
       "2  48551.0        NaN        NaN  2015-10-17 00:00:00       0.0   \n",
       "3  53666.0  19.301890 -99.688015  2012-03-09 00:00:00       0.0   \n",
       "4  47835.0        NaN        NaN  2016-06-07 00:00:00       0.0   \n",
       "\n",
       "   usosmultiples  piscina  escuelascercanas  centroscomercialescercanos  \\\n",
       "0            0.0      0.0               0.0                         0.0   \n",
       "1            0.0      0.0               1.0                         1.0   \n",
       "2            0.0      0.0               0.0                         0.0   \n",
       "3            0.0      0.0               1.0                         1.0   \n",
       "4            0.0      0.0               0.0                         0.0   \n",
       "\n",
       "      precio  \n",
       "0  2273000.0  \n",
       "1  3600000.0  \n",
       "2  1200000.0  \n",
       "3   650000.0  \n",
       "4  1150000.0  "
      ],
      "text/html": "<div>\n<style scoped>\n    .dataframe tbody tr th:only-of-type {\n        vertical-align: middle;\n    }\n\n    .dataframe tbody tr th {\n        vertical-align: top;\n    }\n\n    .dataframe thead th {\n        text-align: right;\n    }\n</style>\n<table border=\"1\" class=\"dataframe\">\n  <thead>\n    <tr style=\"text-align: right;\">\n      <th></th>\n      <th>id</th>\n      <th>titulo</th>\n      <th>descripcion</th>\n      <th>tipodepropiedad</th>\n      <th>direccion</th>\n      <th>ciudad</th>\n      <th>provincia</th>\n      <th>antiguedad</th>\n      <th>habitaciones</th>\n      <th>garages</th>\n      <th>banos</th>\n      <th>metroscubiertos</th>\n      <th>metrostotales</th>\n      <th>idzona</th>\n      <th>lat</th>\n      <th>lng</th>\n      <th>fecha</th>\n      <th>gimnasio</th>\n      <th>usosmultiples</th>\n      <th>piscina</th>\n      <th>escuelascercanas</th>\n      <th>centroscomercialescercanos</th>\n      <th>precio</th>\n    </tr>\n  </thead>\n  <tbody>\n    <tr>\n      <th>0</th>\n      <td>254099</td>\n      <td>depto. tipo a-402</td>\n      <td>depto. interior de 80.15m2, consta de sala com...</td>\n      <td>Apartamento</td>\n      <td>Avenida Division del Norte 2005</td>\n      <td>Benito Juárez</td>\n      <td>Distrito Federal</td>\n      <td>NaN</td>\n      <td>2.0</td>\n      <td>1.0</td>\n      <td>2.0</td>\n      <td>80.0</td>\n      <td>80.0</td>\n      <td>23533.0</td>\n      <td>NaN</td>\n      <td>NaN</td>\n      <td>2015-08-23 00:00:00</td>\n      <td>0.0</td>\n      <td>0.0</td>\n      <td>0.0</td>\n      <td>0.0</td>\n      <td>0.0</td>\n      <td>2273000.0</td>\n    </tr>\n    <tr>\n      <th>1</th>\n      <td>53461</td>\n      <td>condominio horizontal en venta</td>\n      <td>&lt;p&gt;entre sonora y guerrero, atr&amp;aacute;s del h...</td>\n      <td>Casa en condominio</td>\n      <td>AV. MEXICO</td>\n      <td>La Magdalena Contreras</td>\n      <td>Distrito Federal</td>\n      <td>10.0</td>\n      <td>3.0</td>\n      <td>2.0</td>\n      <td>2.0</td>\n      <td>268.0</td>\n      <td>180.0</td>\n      <td>24514.0</td>\n      <td>19.310205</td>\n      <td>-99.227655</td>\n      <td>2013-06-28 00:00:00</td>\n      <td>0.0</td>\n      <td>0.0</td>\n      <td>0.0</td>\n      <td>1.0</td>\n      <td>1.0</td>\n      <td>3600000.0</td>\n    </tr>\n    <tr>\n      <th>2</th>\n      <td>247984</td>\n      <td>casa en venta urbi 3 recamaras tonala</td>\n      <td>descripcion \\nla mejor ubicacion residencial e...</td>\n      <td>Casa</td>\n      <td>Urbi Tonala</td>\n      <td>Tonalá</td>\n      <td>Jalisco</td>\n      <td>5.0</td>\n      <td>3.0</td>\n      <td>2.0</td>\n      <td>2.0</td>\n      <td>144.0</td>\n      <td>166.0</td>\n      <td>48551.0</td>\n      <td>NaN</td>\n      <td>NaN</td>\n      <td>2015-10-17 00:00:00</td>\n      <td>0.0</td>\n      <td>0.0</td>\n      <td>0.0</td>\n      <td>0.0</td>\n      <td>0.0</td>\n      <td>1200000.0</td>\n    </tr>\n    <tr>\n      <th>3</th>\n      <td>209067</td>\n      <td>casa sola en toluca zinacantepec con credito i...</td>\n      <td>casa en privada con caseta de vigilancia casas...</td>\n      <td>Casa</td>\n      <td>IGNACIO MANUEL ALTAMIRANO 128</td>\n      <td>Zinacantepec</td>\n      <td>Edo. de México</td>\n      <td>1.0</td>\n      <td>2.0</td>\n      <td>1.0</td>\n      <td>1.0</td>\n      <td>63.0</td>\n      <td>67.0</td>\n      <td>53666.0</td>\n      <td>19.301890</td>\n      <td>-99.688015</td>\n      <td>2012-03-09 00:00:00</td>\n      <td>0.0</td>\n      <td>0.0</td>\n      <td>0.0</td>\n      <td>1.0</td>\n      <td>1.0</td>\n      <td>650000.0</td>\n    </tr>\n    <tr>\n      <th>4</th>\n      <td>185997</td>\n      <td>paseos del sol</td>\n      <td>bonito departamento en excelentes condiciones ...</td>\n      <td>Apartamento</td>\n      <td>PASEOS DEL SOL</td>\n      <td>Zapopan</td>\n      <td>Jalisco</td>\n      <td>10.0</td>\n      <td>2.0</td>\n      <td>1.0</td>\n      <td>1.0</td>\n      <td>95.0</td>\n      <td>95.0</td>\n      <td>47835.0</td>\n      <td>NaN</td>\n      <td>NaN</td>\n      <td>2016-06-07 00:00:00</td>\n      <td>0.0</td>\n      <td>0.0</td>\n      <td>0.0</td>\n      <td>0.0</td>\n      <td>0.0</td>\n      <td>1150000.0</td>\n    </tr>\n  </tbody>\n</table>\n</div>"
     },
     "metadata": {},
     "execution_count": 10
    }
   ],
   "source": [
    "# Carquemos el dataset \n",
    "df_train = pd.read_csv(\"../data/train.csv\")\n",
    "# Veamos el tamaño\n",
    "display(\"Dimensiones: \", df_train.shape)\n",
    "# Y sus primeras filas \n",
    "pd.set_option(\"display.max.columns\", None)\n",
    "df_train.head(5)"
   ]
  },
  {
   "cell_type": "code",
   "execution_count": 11,
   "metadata": {},
   "outputs": [
    {
     "output_type": "stream",
     "name": "stdout",
     "text": [
      "<class 'pandas.core.frame.DataFrame'>\nRangeIndex: 240000 entries, 0 to 239999\nData columns (total 23 columns):\n #   Column                      Non-Null Count   Dtype  \n---  ------                      --------------   -----  \n 0   id                          240000 non-null  int64  \n 1   titulo                      234613 non-null  object \n 2   descripcion                 238381 non-null  object \n 3   tipodepropiedad             239954 non-null  object \n 4   direccion                   186928 non-null  object \n 5   ciudad                      239628 non-null  object \n 6   provincia                   239845 non-null  object \n 7   antiguedad                  196445 non-null  float64\n 8   habitaciones                217529 non-null  float64\n 9   garages                     202235 non-null  float64\n 10  banos                       213779 non-null  float64\n 11  metroscubiertos             222600 non-null  float64\n 12  metrostotales               188533 non-null  float64\n 13  idzona                      211379 non-null  float64\n 14  lat                         116512 non-null  float64\n 15  lng                         116512 non-null  float64\n 16  fecha                       240000 non-null  object \n 17  gimnasio                    240000 non-null  float64\n 18  usosmultiples               240000 non-null  float64\n 19  piscina                     240000 non-null  float64\n 20  escuelascercanas            240000 non-null  float64\n 21  centroscomercialescercanos  240000 non-null  float64\n 22  precio                      240000 non-null  float64\ndtypes: float64(15), int64(1), object(7)\nmemory usage: 42.1+ MB\n"
     ]
    }
   ],
   "source": [
    "#Veamos ademas las columnas \n",
    "df_train.info()"
   ]
  },
  {
   "cell_type": "code",
   "execution_count": 15,
   "metadata": {},
   "outputs": [
    {
     "output_type": "display_data",
     "data": {
      "text/plain": "                  id     antiguedad   habitaciones        garages  \\\ncount  240000.000000  196445.000000  217529.000000  202235.000000   \nmean   149969.382092       8.116114       2.902326       1.546874   \nstd     86634.579744       9.553830       0.896894       0.853507   \nmin         1.000000       0.000000       1.000000       0.000000   \n25%     74930.750000       0.000000       2.000000       1.000000   \n50%    149875.500000       5.000000       3.000000       2.000000   \n75%    225016.500000      10.000000       3.000000       2.000000   \nmax    299999.000000      80.000000      10.000000       3.000000   \n\n               banos  metroscubiertos  metrostotales        idzona  \\\ncount  213779.000000    222600.000000  188533.000000  2.113790e+05   \nmean        2.132417       174.016774     176.765145  2.423468e+06   \nstd         0.912546        98.152950      94.427328  1.056794e+07   \nmin         1.000000        15.000000      15.000000  2.200000e+01   \n25%         1.000000        90.000000     102.000000  2.489000e+04   \n50%         2.000000       153.000000     155.000000  5.638300e+04   \n75%         3.000000       240.000000     238.000000  8.783800e+04   \nmax         4.000000       439.000000     439.000000  5.000400e+07   \n\n                 lat            lng       gimnasio  usosmultiples  \\\ncount  116512.000000  116512.000000  240000.000000  240000.000000   \nmean       20.696818     -99.509221       0.062475       0.055092   \nstd         3.137884       9.744143       0.242017       0.228160   \nmin      -100.886679    -125.859375       0.000000       0.000000   \n25%        19.359846    -100.977908       0.000000       0.000000   \n50%        19.543273     -99.240387       0.000000       0.000000   \n75%        20.740005     -99.134777       0.000000       0.000000   \nmax        83.026219     121.036000       1.000000       1.000000   \n\n             piscina  escuelascercanas  centroscomercialescercanos  \\\ncount  240000.000000     240000.000000               240000.000000   \nmean        0.087383          0.444142                    0.396533   \nstd         0.282397          0.496871                    0.489179   \nmin         0.000000          0.000000                    0.000000   \n25%         0.000000          0.000000                    0.000000   \n50%         0.000000          0.000000                    0.000000   \n75%         0.000000          1.000000                    1.000000   \nmax         1.000000          1.000000                    1.000000   \n\n             precio  \ncount  2.400000e+05  \nmean   2.530838e+06  \nstd    2.152552e+06  \nmin    3.100000e+05  \n25%    9.527725e+05  \n50%    1.850000e+06  \n75%    3.390000e+06  \nmax    1.252500e+07  ",
      "text/html": "<div>\n<style scoped>\n    .dataframe tbody tr th:only-of-type {\n        vertical-align: middle;\n    }\n\n    .dataframe tbody tr th {\n        vertical-align: top;\n    }\n\n    .dataframe thead th {\n        text-align: right;\n    }\n</style>\n<table border=\"1\" class=\"dataframe\">\n  <thead>\n    <tr style=\"text-align: right;\">\n      <th></th>\n      <th>id</th>\n      <th>antiguedad</th>\n      <th>habitaciones</th>\n      <th>garages</th>\n      <th>banos</th>\n      <th>metroscubiertos</th>\n      <th>metrostotales</th>\n      <th>idzona</th>\n      <th>lat</th>\n      <th>lng</th>\n      <th>gimnasio</th>\n      <th>usosmultiples</th>\n      <th>piscina</th>\n      <th>escuelascercanas</th>\n      <th>centroscomercialescercanos</th>\n      <th>precio</th>\n    </tr>\n  </thead>\n  <tbody>\n    <tr>\n      <th>count</th>\n      <td>240000.000000</td>\n      <td>196445.000000</td>\n      <td>217529.000000</td>\n      <td>202235.000000</td>\n      <td>213779.000000</td>\n      <td>222600.000000</td>\n      <td>188533.000000</td>\n      <td>2.113790e+05</td>\n      <td>116512.000000</td>\n      <td>116512.000000</td>\n      <td>240000.000000</td>\n      <td>240000.000000</td>\n      <td>240000.000000</td>\n      <td>240000.000000</td>\n      <td>240000.000000</td>\n      <td>2.400000e+05</td>\n    </tr>\n    <tr>\n      <th>mean</th>\n      <td>149969.382092</td>\n      <td>8.116114</td>\n      <td>2.902326</td>\n      <td>1.546874</td>\n      <td>2.132417</td>\n      <td>174.016774</td>\n      <td>176.765145</td>\n      <td>2.423468e+06</td>\n      <td>20.696818</td>\n      <td>-99.509221</td>\n      <td>0.062475</td>\n      <td>0.055092</td>\n      <td>0.087383</td>\n      <td>0.444142</td>\n      <td>0.396533</td>\n      <td>2.530838e+06</td>\n    </tr>\n    <tr>\n      <th>std</th>\n      <td>86634.579744</td>\n      <td>9.553830</td>\n      <td>0.896894</td>\n      <td>0.853507</td>\n      <td>0.912546</td>\n      <td>98.152950</td>\n      <td>94.427328</td>\n      <td>1.056794e+07</td>\n      <td>3.137884</td>\n      <td>9.744143</td>\n      <td>0.242017</td>\n      <td>0.228160</td>\n      <td>0.282397</td>\n      <td>0.496871</td>\n      <td>0.489179</td>\n      <td>2.152552e+06</td>\n    </tr>\n    <tr>\n      <th>min</th>\n      <td>1.000000</td>\n      <td>0.000000</td>\n      <td>1.000000</td>\n      <td>0.000000</td>\n      <td>1.000000</td>\n      <td>15.000000</td>\n      <td>15.000000</td>\n      <td>2.200000e+01</td>\n      <td>-100.886679</td>\n      <td>-125.859375</td>\n      <td>0.000000</td>\n      <td>0.000000</td>\n      <td>0.000000</td>\n      <td>0.000000</td>\n      <td>0.000000</td>\n      <td>3.100000e+05</td>\n    </tr>\n    <tr>\n      <th>25%</th>\n      <td>74930.750000</td>\n      <td>0.000000</td>\n      <td>2.000000</td>\n      <td>1.000000</td>\n      <td>1.000000</td>\n      <td>90.000000</td>\n      <td>102.000000</td>\n      <td>2.489000e+04</td>\n      <td>19.359846</td>\n      <td>-100.977908</td>\n      <td>0.000000</td>\n      <td>0.000000</td>\n      <td>0.000000</td>\n      <td>0.000000</td>\n      <td>0.000000</td>\n      <td>9.527725e+05</td>\n    </tr>\n    <tr>\n      <th>50%</th>\n      <td>149875.500000</td>\n      <td>5.000000</td>\n      <td>3.000000</td>\n      <td>2.000000</td>\n      <td>2.000000</td>\n      <td>153.000000</td>\n      <td>155.000000</td>\n      <td>5.638300e+04</td>\n      <td>19.543273</td>\n      <td>-99.240387</td>\n      <td>0.000000</td>\n      <td>0.000000</td>\n      <td>0.000000</td>\n      <td>0.000000</td>\n      <td>0.000000</td>\n      <td>1.850000e+06</td>\n    </tr>\n    <tr>\n      <th>75%</th>\n      <td>225016.500000</td>\n      <td>10.000000</td>\n      <td>3.000000</td>\n      <td>2.000000</td>\n      <td>3.000000</td>\n      <td>240.000000</td>\n      <td>238.000000</td>\n      <td>8.783800e+04</td>\n      <td>20.740005</td>\n      <td>-99.134777</td>\n      <td>0.000000</td>\n      <td>0.000000</td>\n      <td>0.000000</td>\n      <td>1.000000</td>\n      <td>1.000000</td>\n      <td>3.390000e+06</td>\n    </tr>\n    <tr>\n      <th>max</th>\n      <td>299999.000000</td>\n      <td>80.000000</td>\n      <td>10.000000</td>\n      <td>3.000000</td>\n      <td>4.000000</td>\n      <td>439.000000</td>\n      <td>439.000000</td>\n      <td>5.000400e+07</td>\n      <td>83.026219</td>\n      <td>121.036000</td>\n      <td>1.000000</td>\n      <td>1.000000</td>\n      <td>1.000000</td>\n      <td>1.000000</td>\n      <td>1.000000</td>\n      <td>1.252500e+07</td>\n    </tr>\n  </tbody>\n</table>\n</div>"
     },
     "metadata": {}
    },
    {
     "output_type": "display_data",
     "data": {
      "text/plain": "               titulo                                        descripcion  \\\ncount          234613                                             238381   \nunique         186191                                             232187   \ntop     casa en venta  empresa dedicada a los   ante notario y regist...   \nfreq              468                                                119   \n\n       tipodepropiedad direccion     ciudad         provincia  \\\ncount           239954    186928     239628            239845   \nunique              24    140269        875                32   \ntop               Casa         -  Querétaro  Distrito Federal   \nfreq            141717       660      12646             58790   \n\n                      fecha  \ncount                240000  \nunique                 1830  \ntop     2016-12-03 00:00:00  \nfreq                   1416  ",
      "text/html": "<div>\n<style scoped>\n    .dataframe tbody tr th:only-of-type {\n        vertical-align: middle;\n    }\n\n    .dataframe tbody tr th {\n        vertical-align: top;\n    }\n\n    .dataframe thead th {\n        text-align: right;\n    }\n</style>\n<table border=\"1\" class=\"dataframe\">\n  <thead>\n    <tr style=\"text-align: right;\">\n      <th></th>\n      <th>titulo</th>\n      <th>descripcion</th>\n      <th>tipodepropiedad</th>\n      <th>direccion</th>\n      <th>ciudad</th>\n      <th>provincia</th>\n      <th>fecha</th>\n    </tr>\n  </thead>\n  <tbody>\n    <tr>\n      <th>count</th>\n      <td>234613</td>\n      <td>238381</td>\n      <td>239954</td>\n      <td>186928</td>\n      <td>239628</td>\n      <td>239845</td>\n      <td>240000</td>\n    </tr>\n    <tr>\n      <th>unique</th>\n      <td>186191</td>\n      <td>232187</td>\n      <td>24</td>\n      <td>140269</td>\n      <td>875</td>\n      <td>32</td>\n      <td>1830</td>\n    </tr>\n    <tr>\n      <th>top</th>\n      <td>casa en venta</td>\n      <td>empresa dedicada a los   ante notario y regist...</td>\n      <td>Casa</td>\n      <td>-</td>\n      <td>Querétaro</td>\n      <td>Distrito Federal</td>\n      <td>2016-12-03 00:00:00</td>\n    </tr>\n    <tr>\n      <th>freq</th>\n      <td>468</td>\n      <td>119</td>\n      <td>141717</td>\n      <td>660</td>\n      <td>12646</td>\n      <td>58790</td>\n      <td>1416</td>\n    </tr>\n  </tbody>\n</table>\n</div>"
     },
     "metadata": {}
    }
   ],
   "source": [
    "# Veamos alguinas estadisticas basicas del dataset de tipo numerico \n",
    "display(df_train.describe())\n",
    "# y para los estrings tambien\n",
    "display(df_train.describe(include=np.object))"
   ]
  },
  {
   "source": [
    "\n"
   ],
   "cell_type": "markdown",
   "metadata": {}
  },
  {
   "source": [
    "## K-Fold Cross Validation\n",
    "A la hora de realizar los experimentos al igual que en el tp anterior se debe usar cross-validation para evitar overfitting y obtener resultados estadisticamente mas robustos.\n",
    "\n",
    "## Metricas\n",
    "Se utilizan las funciones provistas por sklearn\n",
    "###  RMSE \n",
    "- La raíz del error cuadrático medio \n",
    "###  RMSLE \n",
    "- Error logarítmico cuadrático medio"
   ],
   "cell_type": "markdown",
   "metadata": {}
  },
  {
   "cell_type": "code",
   "execution_count": 21,
   "metadata": {},
   "outputs": [
    {
     "output_type": "error",
     "ename": "SyntaxError",
     "evalue": "invalid syntax (<ipython-input-21-fd95a1d9395e>, line 7)",
     "traceback": [
      "\u001b[0;36m  File \u001b[0;32m\"<ipython-input-21-fd95a1d9395e>\"\u001b[0;36m, line \u001b[0;32m7\u001b[0m\n\u001b[0;31m    def rmsle(A,B):\u001b[0m\n\u001b[0m    ^\u001b[0m\n\u001b[0;31mSyntaxError\u001b[0m\u001b[0;31m:\u001b[0m invalid syntax\n"
     ]
    }
   ],
   "source": [
    "from sklearn.model_selection import KFold\n",
    "from sklearn.metrics import mean_squared_error, mean_squared_log_error\n",
    "\n",
    "def rmse(A,B):\n",
    "    return np.sqrt(mean_squared_error(A, B))\n",
    "\n",
    "def rmsle(A,B):\n",
    "    return np.sqrt(mean_squared_log_error(A, B))\n",
    "\n",
    "def cross_validate(K, X, Y):\n",
    "    \"\"\"\n",
    "    Funcion custom para el TP \n",
    "    \"\"\"\n",
    "    # Usamos la funcion de skleanr para generar los splits \n",
    "    kfold = KFold(n_splits=K)\n",
    "    kfold.get_n_splits(X)\n",
    "    splits = kfold.split(X)\n",
    "\n",
    "    #Almacenamos las metricas en arrays\n",
    "    rmse_values = []\n",
    "    rmsle_values = []\n",
    "    \n",
    "    for index_train, index_test in splits:\n",
    "        # Tomamos el split correspondiente\n",
    "        X_train, X_test = X[index_train], X[index_test]\n",
    "        Y_train, Y_test = Y[index_train], Y[index_test]\n",
    "        \n",
    "        # Se calcula la prediccion\n",
    "        regression = metnum.LinearRegression()\n",
    "        regression.fit(X_train, Y_train)\n",
    "        y_pred = regression.predict(X_test)          \n",
    "        \n",
    "        # Se evaluan las metricas\n",
    "        rmse_values.append(rmse(Y_test, y_pred))\n",
    "        rmsle_values.append(rmsle(Y_test, y_pred))\n",
    "    \n",
    "    #Lo guardamos en un dict de numpy arrays\n",
    "    metrics_dict = {\"RMSE\": np.asarray(rmse_values), \"RMSLE\": np.asarray(rmsle_values)}\n",
    "    \n",
    "    return metris_dict\n"
   ]
  },
  {
   "cell_type": "code",
   "execution_count": null,
   "metadata": {},
   "outputs": [],
   "source": []
  }
 ]
}