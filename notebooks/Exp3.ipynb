{
 "metadata": {
  "language_info": {
   "codemirror_mode": {
    "name": "ipython",
    "version": 3
   },
   "file_extension": ".py",
   "mimetype": "text/x-python",
   "name": "python",
   "nbconvert_exporter": "python",
   "pygments_lexer": "ipython3",
   "version": 3
  },
  "orig_nbformat": 2
 },
 "nbformat": 4,
 "nbformat_minor": 2,
 "cells": [
  {
   "cell_type": "code",
   "execution_count": null,
   "metadata": {},
   "outputs": [],
   "source": [
    "import pandas as pd\n",
    "import numpy as np\n",
    "import seaborn as sns\n",
    "import matplotlib.pyplot as plt\n",
    "# Carquemos el dataset \n",
    "df_train = pd.read_csv(\"../data/train.csv\")\n",
    "# Veamos el tamaño\n",
    "display(\"Dimensiones: \", df_train.shape)\n",
    "# Y sus primeras filas \n",
    "pd.set_option(\"display.max.columns\", None)\n",
    "df_train.head(5)"
   ]
  },
  {
   "cell_type": "code",
   "execution_count": null,
   "metadata": {},
   "outputs": [],
   "source": [
    "# Quiero separar las descripciones\n",
    "descs = df_train[\"descripcion\"].values\n",
    "df_descs = []\n",
    "\n",
    "print(descs.shape)\n",
    "\n",
    "#limpiemos de los caracteres no necesarios\n",
    "for string in descs:\n",
    "    parsed = str(string).replace('\\n', ' ')\n",
    "    parsed = parsed.replace('\\r', ' ')\n",
    "    parsed = parsed.replace(\"font-family\", ' ') #html code\n",
    "    parsed = parsed.replace('á','a')\n",
    "    parsed = parsed.replace('é','e')\n",
    "    parsed = parsed.replace('í','i')\n",
    "    parsed = parsed.replace('ó','o')\n",
    "    parsed = parsed.replace('ú','u')\n",
    "    parsed = parsed.replace('ú','u')\n",
    "    parsed = parsed.replace('&aacute;','a')\n",
    "    parsed = parsed.replace('&eacute;','e')\n",
    "    parsed = parsed.replace('&iacute;','i')\n",
    "    parsed = parsed.replace('&oacute;','o')\n",
    "    parsed = parsed.replace('&uacute;','u')\n",
    "    parsed = parsed.replace('&ntilde;','ñ')\n",
    "    df_descs.append(parsed)\n",
    "\n",
    "display(df_descs[31])\n",
    "df_descs_save = pd.DataFrame(df_descs, columns=[\"desc\"])\n",
    "df_descs_save.to_csv(\"Descripciones.csv\", columns=[\"desc\"])"
   ]
  },
  {
   "cell_type": "code",
   "execution_count": null,
   "metadata": {},
   "outputs": [],
   "source": [
    "#Creo un diccionario de palabras relacionadas a lugares con familia\n",
    "df_family_words = pd.read_csv(\"extras/family_dicc.txt\", header=None)\n",
    "#display(df_family_words)\n",
    "dicc_family = set()\n",
    "print(df_family_words.values.shape)\n",
    "# Transformo a un set de palabras\n",
    "for word in df_family_words[0].values:\n",
    "    dicc_family.add(word)"
   ]
  },
  {
   "cell_type": "code",
   "execution_count": null,
   "metadata": {},
   "outputs": [],
   "source": [
    "# Creo una lista (ordenada en el sentido que tome el dataset) para guardar un 1 o 0 (familiar o no)\n",
    "family_list = []\n",
    "print(df_descs[:1])\n",
    "for line in df_descs:\n",
    "    for word in dicc_family:\n",
    "        res = 0\n",
    "        if word in line:\n",
    "            res = 1\n",
    "            break;\n",
    "    family_list.append(res)\n",
    "\n",
    "print(len(family_list))\n",
    "print(np.mean(family_list))"
   ]
  },
  {
   "cell_type": "code",
   "execution_count": null,
   "metadata": {},
   "outputs": [],
   "source": [
    "#Creo la nueva columna en el dataset\n",
    "df_train_new = df_train\n",
    "df_train_new[\"apto_familia\"]=family_list\n",
    "display(df_train_new.head(2))"
   ]
  },
  {
   "cell_type": "code",
   "execution_count": null,
   "metadata": {},
   "outputs": [],
   "source": [
    "# voy a limpiar un poco a df_descs\n",
    "# hay muchas codigo html en las descripciones\n",
    "# el cual vamos a tratar de sacar lo mas posible, si no seria injusto\n",
    "\n",
    "new_df_descs = []\n",
    "\n",
    "for string in df_descs:\n",
    "    parsed = str(string).replace('&iexcl;', ' ')\n",
    "    parsed = parsed.replace('&nbsp;', ' ')\n",
    "    parsed = parsed.replace('&deg;', ' ')\n",
    "    parsed = parsed.replace(';', ' ')\n",
    "    parsed = re.sub(\"(<.+?>)\", '', parsed)\n",
    "    parsed = re.sub(\"(--.+?--)\", ' ', parsed)\n",
    "    parsed = re.sub(\"(<img.+?>)\", ' ', parsed)\n",
    "    new_df_descs.append(parsed)\n",
    "\n",
    "display(new_df_descs[5034])\n"
   ]
  },
  {
   "source": [
    "habitaciones y apto_familia -> cant baños\n",
    "metros cubiertos y apto_familia -> habitacion\n",
    "\n",
    "nueva caracteristica: amante_del_agua: veracruz , lng>=* y tiene_piscina \n",
    "amante_del_agua -> precio\n",
    "\n",
    "- Exp1 OK\n",
    "- Exp2 OK \n",
    "- Exp3 habitaciones y apto_familia -> cant baños (DF y GU) (y con metros cubiertos?)\n",
    "- Exp4 amante del agua mejora metricas"
   ],
   "cell_type": "markdown",
   "metadata": {}
  },
  {
   "cell_type": "code",
   "execution_count": null,
   "metadata": {},
   "outputs": [],
   "source": []
  },
  {
   "cell_type": "code",
   "execution_count": null,
   "metadata": {},
   "outputs": [],
   "source": []
  }
 ]
}